{
 "cells": [
  {
   "cell_type": "code",
   "execution_count": null,
   "id": "ef85e030",
   "metadata": {
    "vscode": {
     "languageId": "plaintext"
    }
   },
   "outputs": [],
   "source": [
    "from prefect.deployments import Deployment\n",
    "from src.models.train_flow import training_flow\n",
    "\n",
    "deployment = Deployment.build_from_flow(\n",
    "    flow=training_flow,\n",
    "    name=\"daily_training\",\n",
    "    work_queue_name=\"default\",\n",
    ")\n",
    "\n",
    "deployment.apply()\n",
    "print(\"✅ Deployment 'daily_training' registrado correctamente en Prefect.\")\n"
   ]
  },
  {
   "cell_type": "code",
   "execution_count": null,
   "id": "26b1eea3",
   "metadata": {
    "vscode": {
     "languageId": "plaintext"
    }
   },
   "outputs": [],
   "source": []
  }
 ],
 "metadata": {
  "language_info": {
   "name": "python"
  }
 },
 "nbformat": 4,
 "nbformat_minor": 5
}
